{
 "cells": [
  {
   "attachments": {},
   "cell_type": "markdown",
   "metadata": {
    "collapsed": true
   },
   "source": [
    "\n",
    "\n",
    "# Background\n",
    "\n",
    "Hello! My name is Pankaj, and like my other 1.33 Billion Indians, I too am fond of our Indian traditional cuisine, and am proud of it!\n",
    "\n",
    "The one thing we all Indians love unanimously is our Indian food! We are closely connected to the aroma & taste of the variety of spices, which bring the unique taste to our food.\n",
    "\n",
    "Back in 2009, I planned to travel to New York along with group of Indian friends. Well, we made all necessary arrangements but the most important topic with a big question mark was - where do we find Indian restaurants?\n",
    "\n",
    "New York is known for its long history of immigration & ethnically diverse culture & food. But none of us had luxury of carrying smartphones, which could give us feedback on Indian restaurants within New York back then.\n",
    "\n",
    "We managed to do a bit of research about good Indian food in NY by Internet searches, asking hotel staff, little bit of strolling around and found couple of Indian takeaway/Dine-in restaurants around but the lack of taste was pointing to only result - our research wasn't good.\n",
    "\n",
    "Today, as a part of my Capstone Data Science project, I'll like to utilize my Data Science skills to solve a few basic problems of finding out\n",
    "\n",
    "* Which areas in NY have Indian restaurants?\n",
    "* Which is the best location to look for Indian restaurants in NY?\n",
    "* Where should I stay to have multiple options of Indian restaurants around?\n",
    "\n",
    "\n",
    "\n",
    "# Data description\n",
    "\n",
    "For this project we would be looking at below data :\n",
    "\n",
    "(1) New York City data that contains list Boroughs, Neighborhoods along with their latitude and longitude. \n",
    "    * Data source : https://cocl.us/new_york_dataset \n",
    "    * Description : This data set contains the required information. And we will use this data set to explore various neighborhoods of new york city. \n",
    "\n",
    "(2) Indian resturants in each neighborhood of new york city. \n",
    "    * Data source : Fousquare API \n",
    "    * Description : By using this api we will get all the venues in each neighborhood. We can filter these venues to get only indian resturants. \n",
    "\n",
    "(3) GeoSpace data \n",
    "    * Data source : https://data.cityofnewyork.us/City-Government/Borough-Boundaries/tqmj-j8zm \n",
    "    * Description : By using this geo space data we will get the New york Borough boundaries that will help us visualize choropleth map.\n",
    "\n",
    "\n",
    "# Problem solving aproach\n",
    "\n",
    "*  Collect the new york city data from https://cocl.us/new_york_dataset\n",
    "*  Using FourSquare API we will find all venues for each neighborhood.\n",
    "*  Filter out all venues that are Indian Resturants.\n",
    "*  Find rating , tips and like count for each Indian Resturants using FourSquare API.\n",
    "*  Using rating for each resturant , we will sort that data.\n",
    "*  Visualize the Ranking of neighborhoods using folium library(python)\n"
   ]
  },
  {
   "cell_type": "code",
   "execution_count": null,
   "metadata": {},
   "outputs": [],
   "source": []
  }
 ],
 "metadata": {
  "kernelspec": {
   "display_name": "Python 3.6",
   "language": "python",
   "name": "python3"
  },
  "language_info": {
   "codemirror_mode": {
    "name": "ipython",
    "version": 3
   },
   "file_extension": ".py",
   "mimetype": "text/x-python",
   "name": "python",
   "nbconvert_exporter": "python",
   "pygments_lexer": "ipython3",
   "version": "3.6.9"
  }
 },
 "nbformat": 4,
 "nbformat_minor": 1
}
